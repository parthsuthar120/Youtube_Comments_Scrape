{
 "cells": [
  {
   "cell_type": "code",
   "execution_count": 1,
   "id": "42e98df0",
   "metadata": {},
   "outputs": [],
   "source": [
    "import time\n",
    "from selenium import webdriver\n",
    "from selenium.webdriver import Chrome\n",
    "from selenium.webdriver.common.by import By\n",
    "from selenium.webdriver.common.keys import Keys\n",
    "from selenium.webdriver.support.ui import WebDriverWait\n",
    "from selenium.webdriver.support import expected_conditions as EC"
   ]
  },
  {
   "cell_type": "code",
   "execution_count": 2,
   "id": "314c5e58",
   "metadata": {},
   "outputs": [],
   "source": [
    "data=[]\n",
    "driver = webdriver.Chrome(executable_path=r'C:\\Users\\Parth Suthar\\Downloads\\chromedriver.exe')\n",
    "wait = WebDriverWait(driver,15)\n",
    "driver.get(\"https://www.youtube.com/watch?v=aFyu2ru1PCU\")\n",
    "\n",
    "for item in range(10): \n",
    "    wait.until(EC.visibility_of_element_located((By.TAG_NAME, \"body\"))).send_keys(Keys.END)\n",
    "    time.sleep(15)\n",
    "\n",
    "for comment in wait.until(EC.presence_of_all_elements_located((By.CSS_SELECTOR, \"#content\"))):\n",
    "    data.append(comment.text)"
   ]
  },
  {
   "cell_type": "code",
   "execution_count": 3,
   "id": "80a58428",
   "metadata": {},
   "outputs": [
    {
     "data": {
      "text/plain": [
       "285"
      ]
     },
     "execution_count": 3,
     "metadata": {},
     "output_type": "execute_result"
    }
   ],
   "source": [
    "len(data)"
   ]
  },
  {
   "cell_type": "code",
   "execution_count": 5,
   "id": "d4a11c50",
   "metadata": {},
   "outputs": [
    {
     "data": {
      "text/html": [
       "<div>\n",
       "<style scoped>\n",
       "    .dataframe tbody tr th:only-of-type {\n",
       "        vertical-align: middle;\n",
       "    }\n",
       "\n",
       "    .dataframe tbody tr th {\n",
       "        vertical-align: top;\n",
       "    }\n",
       "\n",
       "    .dataframe thead th {\n",
       "        text-align: right;\n",
       "    }\n",
       "</style>\n",
       "<table border=\"1\" class=\"dataframe\">\n",
       "  <thead>\n",
       "    <tr style=\"text-align: right;\">\n",
       "      <th></th>\n",
       "      <th>comment</th>\n",
       "    </tr>\n",
       "  </thead>\n",
       "  <tbody>\n",
       "    <tr>\n",
       "      <th>0</th>\n",
       "      <td>IN\\nSKIP NAVIGATION\\nSIGN IN\\n0:00 / 57:45\\nTh...</td>\n",
       "    </tr>\n",
       "    <tr>\n",
       "      <th>1</th>\n",
       "      <td></td>\n",
       "    </tr>\n",
       "    <tr>\n",
       "      <th>2</th>\n",
       "      <td>SUBSCRIBE for more speakers ► http://is.gd/Oxf...</td>\n",
       "    </tr>\n",
       "    <tr>\n",
       "      <th>3</th>\n",
       "      <td>This is like Hitler presiding over a debate of...</td>\n",
       "    </tr>\n",
       "    <tr>\n",
       "      <th>4</th>\n",
       "      <td>JNU should debate on northern Ireland problem ...</td>\n",
       "    </tr>\n",
       "    <tr>\n",
       "      <th>5</th>\n",
       "      <td>The irony here is that a member of the COMMUNI...</td>\n",
       "    </tr>\n",
       "    <tr>\n",
       "      <th>6</th>\n",
       "      <td>Let's have a debate at JNU.\\nTopic: Is UK wors...</td>\n",
       "    </tr>\n",
       "    <tr>\n",
       "      <th>7</th>\n",
       "      <td>When you see two fish fighting in the pond tha...</td>\n",
       "    </tr>\n",
       "    <tr>\n",
       "      <th>8</th>\n",
       "      <td>I just can't stop laughing..Look who has organ...</td>\n",
       "    </tr>\n",
       "    <tr>\n",
       "      <th>9</th>\n",
       "      <td>Mr Sita Ram seems to be self proclaiming patriot.</td>\n",
       "    </tr>\n",
       "  </tbody>\n",
       "</table>\n",
       "</div>"
      ],
      "text/plain": [
       "                                             comment\n",
       "0  IN\\nSKIP NAVIGATION\\nSIGN IN\\n0:00 / 57:45\\nTh...\n",
       "1                                                   \n",
       "2  SUBSCRIBE for more speakers ► http://is.gd/Oxf...\n",
       "3  This is like Hitler presiding over a debate of...\n",
       "4  JNU should debate on northern Ireland problem ...\n",
       "5  The irony here is that a member of the COMMUNI...\n",
       "6  Let's have a debate at JNU.\\nTopic: Is UK wors...\n",
       "7  When you see two fish fighting in the pond tha...\n",
       "8  I just can't stop laughing..Look who has organ...\n",
       "9  Mr Sita Ram seems to be self proclaiming patriot."
      ]
     },
     "execution_count": 5,
     "metadata": {},
     "output_type": "execute_result"
    }
   ],
   "source": [
    "import pandas as pd  \n",
    "df = pd.DataFrame(data, columns=['comment'])\n",
    "df.head(10)"
   ]
  },
  {
   "cell_type": "code",
   "execution_count": 6,
   "id": "125aaee3",
   "metadata": {},
   "outputs": [
    {
     "data": {
      "text/plain": [
       "'what happened to article 3 during ap/ts division'"
      ]
     },
     "execution_count": 6,
     "metadata": {},
     "output_type": "execute_result"
    }
   ],
   "source": [
    "data[120]"
   ]
  },
  {
   "cell_type": "code",
   "execution_count": null,
   "id": "88c3de10",
   "metadata": {},
   "outputs": [],
   "source": []
  }
 ],
 "metadata": {
  "kernelspec": {
   "display_name": "Python 3",
   "language": "python",
   "name": "python3"
  },
  "language_info": {
   "codemirror_mode": {
    "name": "ipython",
    "version": 3
   },
   "file_extension": ".py",
   "mimetype": "text/x-python",
   "name": "python",
   "nbconvert_exporter": "python",
   "pygments_lexer": "ipython3",
   "version": "3.8.10"
  }
 },
 "nbformat": 4,
 "nbformat_minor": 5
}
